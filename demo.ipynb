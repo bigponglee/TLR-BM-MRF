{
 "cells": [
  {
   "cell_type": "code",
   "execution_count": null,
   "metadata": {},
   "outputs": [],
   "source": [
    "from test import test\n",
    "from utils.func import show_map, psnr\n",
    "from scipy.io import loadmat\n",
    "from configs import TLR_BM_configs as cfg\n",
    "import numpy as np"
   ]
  },
  {
   "attachments": {},
   "cell_type": "markdown",
   "metadata": {},
   "source": [
    "# run test demo\n",
    "* the results will be saved in the 'output/TLR_BM_X_4_5_2023-04-17-13/test/' folder\n",
    "* 'TLR_BM_X_4_5_2023-04-17-13' is the output folder name"
   ]
  },
  {
   "cell_type": "code",
   "execution_count": null,
   "metadata": {},
   "outputs": [],
   "source": [
    "test_index_list = [50]\n",
    "test(test_index_list)"
   ]
  },
  {
   "attachments": {},
   "cell_type": "markdown",
   "metadata": {},
   "source": [
    "# show results"
   ]
  },
  {
   "cell_type": "code",
   "execution_count": null,
   "metadata": {},
   "outputs": [],
   "source": [
    "test_path = 'data/output/TLR_BM_X_4_5_2023-04-17-13/test/'\n",
    "for data_index in test_index_list:\n",
    "    X_recon = loadmat(test_path+'X_recon_{}.mat'.format(data_index))['X_recon']\n",
    "    X_gt = loadmat(cfg.data_path+'X/X_{}.mat'.format(data_index))['X']\n",
    "    PSNR=psnr(X_recon,X_gt)\n",
    "    para_maps_est = loadmat(test_path+'para_est_{}.mat'.format(data_index))['para_maps']\n",
    "    para_maps_gt = loadmat(cfg.data_path+'para_maps/para_map_{}.mat'.format(data_index))['para_maps']\n",
    "    index = np.asarray(para_maps_gt[:,:,:2] == 0)\n",
    "    para_maps_est[index] = 0\n",
    "    show_map(para_maps_gt, para_maps_est)\n",
    "    T1_error=np.sum(np.square(\n",
    "        para_maps_gt[:, :, 0]-para_maps_est[:, :, 0]))/np.sum(np.square(para_maps_gt[:, :, 0]))\n",
    "    T2_error=np.sum(np.square(\n",
    "        para_maps_gt[:, :, 1]-para_maps_est[:, :, 1]))/np.sum(np.square(para_maps_gt[:, :, 1]))\n",
    "    print('T1_error:',T1_error)\n",
    "    print('T2_error:',T2_error)\n",
    "    print('PSNR:',PSNR)\n"
   ]
  }
 ],
 "metadata": {
  "kernelspec": {
   "display_name": "base",
   "language": "python",
   "name": "python3"
  },
  "language_info": {
   "codemirror_mode": {
    "name": "ipython",
    "version": 3
   },
   "file_extension": ".py",
   "mimetype": "text/x-python",
   "name": "python",
   "nbconvert_exporter": "python",
   "pygments_lexer": "ipython3",
   "version": "3.10.9"
  },
  "orig_nbformat": 4
 },
 "nbformat": 4,
 "nbformat_minor": 2
}
